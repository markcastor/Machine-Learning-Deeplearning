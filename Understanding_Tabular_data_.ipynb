{
  "nbformat": 4,
  "nbformat_minor": 0,
  "metadata": {
    "colab": {
      "provenance": [],
      "authorship_tag": "ABX9TyMNwMwb0h6hofSKEKnWa4uo",
      "include_colab_link": true
    },
    "kernelspec": {
      "name": "python3",
      "display_name": "Python 3"
    },
    "language_info": {
      "name": "python"
    }
  },
  "cells": [
    {
      "cell_type": "markdown",
      "metadata": {
        "id": "view-in-github",
        "colab_type": "text"
      },
      "source": [
        "<a href=\"https://colab.research.google.com/github/markcastor/Machine-Learning-Deeplearning/blob/main/Understanding_Tabular_data_.ipynb\" target=\"_parent\"><img src=\"https://colab.research.google.com/assets/colab-badge.svg\" alt=\"Open In Colab\"/></a>"
      ]
    },
    {
      "cell_type": "code",
      "execution_count": 1,
      "metadata": {
        "colab": {
          "base_uri": "https://localhost:8080/"
        },
        "id": "7KbA8pxeME_d",
        "outputId": "583056bd-8704-4717-a8aa-7c21167b5473"
      },
      "outputs": [
        {
          "output_type": "stream",
          "name": "stdout",
          "text": [
            "house_0_list length: <class 'list'>\n"
          ]
        }
      ],
      "source": [
        "#Declare variable 'house_0_list'\n",
        "house_0_list = [115910.26, 128, 4]\n",
        "#Print object type of 'house_0_list'\n",
        "print(\"house_0_list length:\", type(house_0_list))\n",
        "\n"
      ]
    },
    {
      "cell_type": "code",
      "source": [
        "#print length\n",
        "print(\"house_0_list length:\", len(house_0_list))"
      ],
      "metadata": {
        "colab": {
          "base_uri": "https://localhost:8080/"
        },
        "id": "7myu9D-VNTNA",
        "outputId": "0c908ca8-27a9-4183-8899-da302c399f73"
      },
      "execution_count": 2,
      "outputs": [
        {
          "output_type": "stream",
          "name": "stdout",
          "text": [
            "house_0_list length: 3\n"
          ]
        }
      ]
    },
    {
      "cell_type": "code",
      "source": [
        "#output file\n",
        "house_0_list"
      ],
      "metadata": {
        "colab": {
          "base_uri": "https://localhost:8080/"
        },
        "id": "GO6nqV02Na4p",
        "outputId": "7bab8be0-1609-4383-bec1-4b04e715c743"
      },
      "execution_count": 3,
      "outputs": [
        {
          "output_type": "execute_result",
          "data": {
            "text/plain": [
              "[115910.26, 128, 4]"
            ]
          },
          "metadata": {},
          "execution_count": 3
        }
      ]
    },
    {
      "cell_type": "code",
      "source": [
        "# Declare variable `house_0_price_m2`\n",
        "house_0_price_m2 = house_0_list[0]/ house_0_list[1]\n",
        "\n",
        "# Print object type of `house_0_price_m2`\n",
        "print(\"house_0_price_m2 type:\", type(house_0_price_m2))\n",
        "\n",
        "# Get output of `house_0_price_m2`\n",
        "house_0_price_m2"
      ],
      "metadata": {
        "colab": {
          "base_uri": "https://localhost:8080/"
        },
        "id": "7rgkITmfPSqn",
        "outputId": "40c550d4-262c-4266-e7e3-067e4d74dfea"
      },
      "execution_count": 4,
      "outputs": [
        {
          "output_type": "stream",
          "name": "stdout",
          "text": [
            "house_0_price_m2 type: <class 'float'>\n"
          ]
        },
        {
          "output_type": "execute_result",
          "data": {
            "text/plain": [
              "905.54890625"
            ]
          },
          "metadata": {},
          "execution_count": 4
        }
      ]
    },
    {
      "cell_type": "code",
      "source": [
        "# Append price / sq. meter to `house_0_list`\n",
        "house_0_list.append(house_0_price_m2)\n",
        "house_0_list"
      ],
      "metadata": {
        "colab": {
          "base_uri": "https://localhost:8080/"
        },
        "id": "JWjzHmMWQGZV",
        "outputId": "573e0f5c-5ec1-46f4-ffc9-69818bd8edb4"
      },
      "execution_count": 5,
      "outputs": [
        {
          "output_type": "execute_result",
          "data": {
            "text/plain": [
              "[115910.26, 128, 4, 905.54890625]"
            ]
          },
          "metadata": {},
          "execution_count": 5
        }
      ]
    },
    {
      "cell_type": "code",
      "source": [
        "# Print object type of `house_0_list`\n",
        "print(\"houses_0_list type:\", type(house_0_list))\n",
        "\n",
        "# Print length of `house_0_list`\n",
        "print(\"houses_0_list length:\", len(house_0_list))\n",
        "\n",
        "# Get output of `house_0_list`\n",
        "house_0_list"
      ],
      "metadata": {
        "colab": {
          "base_uri": "https://localhost:8080/"
        },
        "id": "R2rl0FvQQIJ_",
        "outputId": "26b75f24-7a73-47f3-d9a6-c2ebbe079b50"
      },
      "execution_count": 6,
      "outputs": [
        {
          "output_type": "stream",
          "name": "stdout",
          "text": [
            "houses_0_list type: <class 'list'>\n",
            "houses_0_list length: 4\n"
          ]
        },
        {
          "output_type": "execute_result",
          "data": {
            "text/plain": [
              "[115910.26, 128, 4, 905.54890625]"
            ]
          },
          "metadata": {},
          "execution_count": 6
        }
      ]
    },
    {
      "cell_type": "code",
      "source": [
        "#Decleare variable 'house_nested_list'\n",
        "houses_nested_list = [\n",
        "    [115910.26, 128.0, 4.0],\n",
        "    [48718.17, 210.0, 3.0],\n",
        "    [28977.56, 58.0, 2.0],\n",
        "    [36932.27, 79.0, 3.0],\n",
        "    [83903.51, 111.0, 3.0],\n",
        "\n",
        "]\n",
        "#print\n",
        "print(\"house_nested_list type:\", type(houses_nested_list))\n",
        "print(\"house_nested_list type:\", len(houses_nested_list))\n",
        "houses_nested_list\n"
      ],
      "metadata": {
        "colab": {
          "base_uri": "https://localhost:8080/"
        },
        "id": "8J0vmHAeQkwA",
        "outputId": "26af8398-4655-4cfa-850d-24ee25aeef71"
      },
      "execution_count": 7,
      "outputs": [
        {
          "output_type": "stream",
          "name": "stdout",
          "text": [
            "house_nested_list type: <class 'list'>\n",
            "house_nested_list type: 5\n"
          ]
        },
        {
          "output_type": "execute_result",
          "data": {
            "text/plain": [
              "[[115910.26, 128.0, 4.0],\n",
              " [48718.17, 210.0, 3.0],\n",
              " [28977.56, 58.0, 2.0],\n",
              " [36932.27, 79.0, 3.0],\n",
              " [83903.51, 111.0, 3.0]]"
            ]
          },
          "metadata": {},
          "execution_count": 7
        }
      ]
    },
    {
      "cell_type": "markdown",
      "source": [
        "Create a forloop to iterate through the price"
      ],
      "metadata": {
        "id": "ZBWIFs6QSLsF"
      }
    },
    {
      "cell_type": "code",
      "source": [
        "# Create for loop to iterate through `houses_nested_list`\n",
        "\n",
        "    # For each observation, append price / sq. meter\n",
        "for house in houses_nested_list:\n",
        "    price_m2 = house[0] / house[1]\n",
        "    house.append(price_m2)\n",
        "\n",
        "houses_nested_list"
      ],
      "metadata": {
        "colab": {
          "base_uri": "https://localhost:8080/"
        },
        "id": "M2oLCK9sUp-E",
        "outputId": "a52ae7a3-e3eb-4e46-9ea0-2bc09f15def6"
      },
      "execution_count": 8,
      "outputs": [
        {
          "output_type": "execute_result",
          "data": {
            "text/plain": [
              "[[115910.26, 128.0, 4.0, 905.54890625],\n",
              " [48718.17, 210.0, 3.0, 231.9912857142857],\n",
              " [28977.56, 58.0, 2.0, 499.61310344827587],\n",
              " [36932.27, 79.0, 3.0, 467.4970886075949],\n",
              " [83903.51, 111.0, 3.0, 755.8874774774774]]"
            ]
          },
          "metadata": {},
          "execution_count": 8
        }
      ]
    },
    {
      "cell_type": "code",
      "source": [
        "\n",
        "\n",
        "# Print `houses_nested_list` type\n",
        "print(\"houses_nested_list type:\", type(houses_nested_list))\n",
        "\n",
        "# Print `houses_nested_list` length\n",
        "print(\"houses_nested_list length:\", len(houses_nested_list))\n",
        "\n",
        "# Get output of `houses_nested_list`\n",
        "houses_nested_list"
      ],
      "metadata": {
        "colab": {
          "base_uri": "https://localhost:8080/"
        },
        "id": "brrLQ71mUEeM",
        "outputId": "3ddb09dd-c265-4e3a-b5d8-6b3ae6cfaafb"
      },
      "execution_count": 9,
      "outputs": [
        {
          "output_type": "stream",
          "name": "stdout",
          "text": [
            "houses_nested_list type: <class 'list'>\n",
            "houses_nested_list length: 5\n"
          ]
        },
        {
          "output_type": "execute_result",
          "data": {
            "text/plain": [
              "[[115910.26, 128.0, 4.0, 905.54890625],\n",
              " [48718.17, 210.0, 3.0, 231.9912857142857],\n",
              " [28977.56, 58.0, 2.0, 499.61310344827587],\n",
              " [36932.27, 79.0, 3.0, 467.4970886075949],\n",
              " [83903.51, 111.0, 3.0, 755.8874774774774]]"
            ]
          },
          "metadata": {},
          "execution_count": 9
        }
      ]
    },
    {
      "cell_type": "markdown",
      "source": [
        "Working with dictionaries"
      ],
      "metadata": {
        "id": "kSTP0etVWGM9"
      }
    },
    {
      "cell_type": "code",
      "source": [
        "house_0_dict = {\n",
        "    \"price_approx_usd\": 115910.26,\n",
        "    \"surface_covered_in_m2\": 128,\n",
        "    \"rooms\": 4,\n",
        "}\n",
        "#print house_0_dict' type\n",
        "print(\"house_0_dict type:\", type(house_0_dict))\n",
        "\n",
        "house_0_dict"
      ],
      "metadata": {
        "colab": {
          "base_uri": "https://localhost:8080/"
        },
        "id": "ckN0-yuWWFdN",
        "outputId": "a9406e79-ec60-4a7a-8a9f-bd3d153d65a6"
      },
      "execution_count": 10,
      "outputs": [
        {
          "output_type": "stream",
          "name": "stdout",
          "text": [
            "house_0_dict type: <class 'dict'>\n"
          ]
        },
        {
          "output_type": "execute_result",
          "data": {
            "text/plain": [
              "{'price_approx_usd': 115910.26, 'surface_covered_in_m2': 128, 'rooms': 4}"
            ]
          },
          "metadata": {},
          "execution_count": 10
        }
      ]
    },
    {
      "cell_type": "markdown",
      "source": [
        "calculate price per square meter\n"
      ],
      "metadata": {
        "id": "xVQqSUZ3Xk7r"
      }
    },
    {
      "cell_type": "code",
      "source": [
        "\n",
        "house_0_dict[\"price_per_m2\"] = house_0_dict[\"price_approx_usd\"]/ house_0_dict[\"surface_covered_in_m2\"]\n",
        "house_0_dict"
      ],
      "metadata": {
        "colab": {
          "base_uri": "https://localhost:8080/"
        },
        "id": "JLFVyZeoWNjB",
        "outputId": "13c6d6fd-872a-4a51-d9b4-d1c543a5006b"
      },
      "execution_count": 11,
      "outputs": [
        {
          "output_type": "execute_result",
          "data": {
            "text/plain": [
              "{'price_approx_usd': 115910.26,\n",
              " 'surface_covered_in_m2': 128,\n",
              " 'rooms': 4,\n",
              " 'price_per_m2': 905.54890625}"
            ]
          },
          "metadata": {},
          "execution_count": 11
        }
      ]
    },
    {
      "cell_type": "markdown",
      "source": [
        "If we wanted to combine all our observations together, the best way would be to create a list of dictionaries."
      ],
      "metadata": {
        "id": "wk9z3x_HY1nn"
      }
    },
    {
      "cell_type": "code",
      "source": [
        "houses_rowwise = [\n",
        "    {\n",
        "        \"price_approx_usd\": 115910.26,\n",
        "        \"surface_covered_in_m2\": 128,\n",
        "        \"rooms\": 4,\n",
        "    },\n",
        "    {\n",
        "        \"price_approx_usd\": 48718.17,\n",
        "        \"surface_covered_in_m2\": 210,\n",
        "        \"rooms\": 3,\n",
        "    },\n",
        "    {\n",
        "        \"price_approx_usd\": 28977.56,\n",
        "        \"surface_covered_in_m2\": 58,\n",
        "        \"rooms\": 2,\n",
        "    },\n",
        "    {\n",
        "        \"price_approx_usd\": 36932.27,\n",
        "        \"surface_covered_in_m2\": 79,\n",
        "        \"rooms\": 3,\n",
        "    },\n",
        "    {\n",
        "        \"price_approx_usd\": 83903.51,\n",
        "        \"surface_covered_in_m2\": 111,\n",
        "        \"rooms\": 3,\n",
        "    },\n",
        "]\n",
        "\n",
        "print(\"houses_rowwise type:\", type(houses_rowwise))\n",
        "print(\"houses_rowwise type:\", len(houses_rowwise))\n",
        "\n",
        "houses_rowwise\n",
        "\n"
      ],
      "metadata": {
        "colab": {
          "base_uri": "https://localhost:8080/"
        },
        "id": "0Uk2mv48Ymp8",
        "outputId": "c4f4e057-62f1-4c93-a734-fe82dc4946f9"
      },
      "execution_count": 12,
      "outputs": [
        {
          "output_type": "stream",
          "name": "stdout",
          "text": [
            "houses_rowwise type: <class 'list'>\n",
            "houses_rowwise type: 5\n"
          ]
        },
        {
          "output_type": "execute_result",
          "data": {
            "text/plain": [
              "[{'price_approx_usd': 115910.26, 'surface_covered_in_m2': 128, 'rooms': 4},\n",
              " {'price_approx_usd': 48718.17, 'surface_covered_in_m2': 210, 'rooms': 3},\n",
              " {'price_approx_usd': 28977.56, 'surface_covered_in_m2': 58, 'rooms': 2},\n",
              " {'price_approx_usd': 36932.27, 'surface_covered_in_m2': 79, 'rooms': 3},\n",
              " {'price_approx_usd': 83903.51, 'surface_covered_in_m2': 111, 'rooms': 3}]"
            ]
          },
          "metadata": {},
          "execution_count": 12
        }
      ]
    },
    {
      "cell_type": "markdown",
      "source": [
        "calculate houses in square meters"
      ],
      "metadata": {
        "id": "xUrzvo5XZxEQ"
      }
    },
    {
      "cell_type": "code",
      "source": [
        "\n",
        "    # For each observation, add \"price_per_m2\" key-value pair\n",
        "for house in houses_rowwise:\n",
        "    house[\"price_per_m2\"] = house[\"price_approx_usd\"]/ house[\"surface_covered_in_m2\"]\n",
        "\n",
        "\n",
        "\n",
        "# Print `houses_rowwise` object type\n",
        "print(\"houses_rowwise type:\", type(houses_rowwise))\n",
        "\n",
        "# Print `houses_rowwise` length\n",
        "print(\"houses_rowwise length:\", len(houses_rowwise))\n",
        "\n",
        "# Get output of `houses_rowwise`\n",
        "houses_rowwise"
      ],
      "metadata": {
        "id": "NuSLDSD5Z3Vg",
        "colab": {
          "base_uri": "https://localhost:8080/"
        },
        "outputId": "c2a54ced-1b9b-4ad0-cafb-b333dd0063f7"
      },
      "execution_count": 17,
      "outputs": [
        {
          "output_type": "stream",
          "name": "stdout",
          "text": [
            "houses_rowwise type: <class 'list'>\n",
            "houses_rowwise length: 5\n"
          ]
        },
        {
          "output_type": "execute_result",
          "data": {
            "text/plain": [
              "[{'price_approx_usd': 115910.26,\n",
              "  'surface_covered_in_m2': 128,\n",
              "  'rooms': 4,\n",
              "  'price_per_m2': 905.54890625},\n",
              " {'price_approx_usd': 48718.17,\n",
              "  'surface_covered_in_m2': 210,\n",
              "  'rooms': 3,\n",
              "  'price_per_m2': 231.9912857142857},\n",
              " {'price_approx_usd': 28977.56,\n",
              "  'surface_covered_in_m2': 58,\n",
              "  'rooms': 2,\n",
              "  'price_per_m2': 499.61310344827587},\n",
              " {'price_approx_usd': 36932.27,\n",
              "  'surface_covered_in_m2': 79,\n",
              "  'rooms': 3,\n",
              "  'price_per_m2': 467.4970886075949},\n",
              " {'price_approx_usd': 83903.51,\n",
              "  'surface_covered_in_m2': 111,\n",
              "  'rooms': 3,\n",
              "  'price_per_m2': 755.8874774774774}]"
            ]
          },
          "metadata": {},
          "execution_count": 17
        }
      ]
    },
    {
      "cell_type": "markdown",
      "source": [
        "Columnwise operations\n",
        "\n",
        "calculate the mean price for houses_rowwise"
      ],
      "metadata": {
        "id": "Y-It0MgVJvrZ"
      }
    },
    {
      "cell_type": "code",
      "source": [
        "# Declare `house_prices` as empty list\n",
        "house_prices = []\n",
        "for house in houses_rowwise:\n",
        "    house_prices.append(house[\"price_approx_usd\"])\n",
        "\n",
        "mean_house_price = sum(house_prices) / len(house_prices)\n",
        "# Print `mean_house_price` object type\n",
        "print(\"mean_house_price type:\", type(mean_house_price))\n",
        "# Get output of `mean_house_price`\n",
        "\n",
        "mean_house_price"
      ],
      "metadata": {
        "colab": {
          "base_uri": "https://localhost:8080/"
        },
        "id": "MtzoPDQ2JeKX",
        "outputId": "1f93133e-7b9c-4572-f80d-791117321c22"
      },
      "execution_count": 18,
      "outputs": [
        {
          "output_type": "stream",
          "name": "stdout",
          "text": [
            "mean_house_price type: <class 'float'>\n"
          ]
        },
        {
          "output_type": "execute_result",
          "data": {
            "text/plain": [
              "62888.35399999999"
            ]
          },
          "metadata": {},
          "execution_count": 18
        }
      ]
    },
    {
      "cell_type": "code",
      "source": [
        "# Declare variable `houses_columnwise`\n",
        "houses_columnwise = {\n",
        "    \"price_approx_usd\": [115910.26, 48718.17, 28977.56, 36932.27, 83903.51],\n",
        "    \"surface_covered_in_m2\": [128.0, 210.0, 58.0, 79.0, 111.0],\n",
        "    \"rooms\": [4.0, 3.0, 2.0, 3.0, 3.0],\n",
        "}\n",
        "\n",
        "# Print `houses_columnwise` object type\n",
        "print(\"houses_columnwise type:\", type(houses_columnwise))\n",
        "\n",
        "# Get output of `houses_columnwise`\n",
        "houses_columnwise"
      ],
      "metadata": {
        "colab": {
          "base_uri": "https://localhost:8080/"
        },
        "id": "wRCrssfzMXeD",
        "outputId": "adfa5aba-56c8-4952-9320-6247c03c6d6e"
      },
      "execution_count": 19,
      "outputs": [
        {
          "output_type": "stream",
          "name": "stdout",
          "text": [
            "houses_columnwise type: <class 'dict'>\n"
          ]
        },
        {
          "output_type": "execute_result",
          "data": {
            "text/plain": [
              "{'price_approx_usd': [115910.26, 48718.17, 28977.56, 36932.27, 83903.51],\n",
              " 'surface_covered_in_m2': [128.0, 210.0, 58.0, 79.0, 111.0],\n",
              " 'rooms': [4.0, 3.0, 2.0, 3.0, 3.0]}"
            ]
          },
          "metadata": {},
          "execution_count": 19
        }
      ]
    },
    {
      "cell_type": "code",
      "source": [],
      "metadata": {
        "id": "yViAZdEcMuOc"
      },
      "execution_count": null,
      "outputs": []
    },
    {
      "cell_type": "code",
      "source": [
        "# Calculate `mean_house_price` using `houses_columnwise`\n",
        "mean_house_price = sum(houses_columnwise[\"price_approx_usd\"]) / len(houses_columnwise[\"price_approx_usd\"])\n",
        "\n",
        "# Print `mean_house_price` object type\n",
        "print(\"mean_house_price type:\", type(mean_house_price))\n",
        "\n",
        "# Get output of `mean_house_price`\n",
        "mean_house_price"
      ],
      "metadata": {
        "colab": {
          "base_uri": "https://localhost:8080/"
        },
        "id": "nsq7nFYvMoKw",
        "outputId": "3ec201c4-07e8-40e5-faaa-e71e7f28acf2"
      },
      "execution_count": 21,
      "outputs": [
        {
          "output_type": "stream",
          "name": "stdout",
          "text": [
            "mean_house_price type: <class 'float'>\n"
          ]
        },
        {
          "output_type": "execute_result",
          "data": {
            "text/plain": [
              "62888.35399999999"
            ]
          },
          "metadata": {},
          "execution_count": 21
        }
      ]
    },
    {
      "cell_type": "code",
      "source": [
        "#Lets Create a \"price_per_m2\" column in houses_columnwise\n",
        "price = houses_columnwise[\"price_approx_usd\"]\n",
        "area = houses_columnwise[\"surface_covered_in_m2\"]\n",
        "\n",
        "price_per_m2 = []\n",
        "for p, a in zip(price,area):\n",
        "    price_m2 = p/a\n",
        "    price_per_m2.append(price_m2)\n",
        "price_per_m2"
      ],
      "metadata": {
        "colab": {
          "base_uri": "https://localhost:8080/"
        },
        "id": "92Hrt7-fQUiy",
        "outputId": "d4f2dcea-5be4-4b71-f1af-015c89747eb1"
      },
      "execution_count": 22,
      "outputs": [
        {
          "output_type": "execute_result",
          "data": {
            "text/plain": [
              "[905.54890625,\n",
              " 231.9912857142857,\n",
              " 499.61310344827587,\n",
              " 467.4970886075949,\n",
              " 755.8874774774774]"
            ]
          },
          "metadata": {},
          "execution_count": 22
        }
      ]
    },
    {
      "cell_type": "code",
      "source": [
        "# Add \"price_per_m2\" key-value pair for `houses_columnwise`\n",
        "houses_columnwise[\"price_per_m2\"] = price_per_m2\n",
        "\n",
        "# Print `houses_columnwise` object type\n",
        "print(\"houses_columnwise type:\", type(houses_columnwise))\n",
        "\n",
        "# Get output of `houses_columnwise`\n",
        "houses_columnwise"
      ],
      "metadata": {
        "colab": {
          "base_uri": "https://localhost:8080/"
        },
        "id": "BqIdg2DZQiXo",
        "outputId": "179a1799-00eb-42a9-9cfc-a13b198b4536"
      },
      "execution_count": 23,
      "outputs": [
        {
          "output_type": "stream",
          "name": "stdout",
          "text": [
            "houses_columnwise type: <class 'dict'>\n"
          ]
        },
        {
          "output_type": "execute_result",
          "data": {
            "text/plain": [
              "{'price_approx_usd': [115910.26, 48718.17, 28977.56, 36932.27, 83903.51],\n",
              " 'surface_covered_in_m2': [128.0, 210.0, 58.0, 79.0, 111.0],\n",
              " 'rooms': [4.0, 3.0, 2.0, 3.0, 3.0],\n",
              " 'price_per_m2': [905.54890625,\n",
              "  231.9912857142857,\n",
              "  499.61310344827587,\n",
              "  467.4970886075949,\n",
              "  755.8874774774774]}"
            ]
          },
          "metadata": {},
          "execution_count": 23
        }
      ]
    },
    {
      "cell_type": "code",
      "source": [
        "# Import pandas library, aliased as `pd`\n",
        "import pandas as pd\n",
        "\n",
        "# Declare variable `df_houses`\n",
        "df_houses = pd.DataFrame(houses_columnwise)\n",
        "\n",
        "# Print `df_houses` object type\n",
        "print(\"df_houses type:\", type(df_houses))\n",
        "\n",
        "# Print `df_houses` shape\n",
        "print(\"df_houses shape:\", df_houses.shape)\n",
        "\n",
        "# Get output of `df_houses`\n",
        "df_houses"
      ],
      "metadata": {
        "colab": {
          "base_uri": "https://localhost:8080/",
          "height": 242
        },
        "id": "ezlhfFjVQndP",
        "outputId": "d61d06ca-e9c3-4f42-b70c-56a2c8e45031"
      },
      "execution_count": 24,
      "outputs": [
        {
          "output_type": "stream",
          "name": "stdout",
          "text": [
            "df_houses type: <class 'pandas.core.frame.DataFrame'>\n",
            "df_houses shape: (5, 4)\n"
          ]
        },
        {
          "output_type": "execute_result",
          "data": {
            "text/plain": [
              "   price_approx_usd  surface_covered_in_m2  rooms  price_per_m2\n",
              "0         115910.26                  128.0    4.0    905.548906\n",
              "1          48718.17                  210.0    3.0    231.991286\n",
              "2          28977.56                   58.0    2.0    499.613103\n",
              "3          36932.27                   79.0    3.0    467.497089\n",
              "4          83903.51                  111.0    3.0    755.887477"
            ],
            "text/html": [
              "\n",
              "  <div id=\"df-2f1afa56-c2c6-420a-a43a-7fbf9ecde0b2\" class=\"colab-df-container\">\n",
              "    <div>\n",
              "<style scoped>\n",
              "    .dataframe tbody tr th:only-of-type {\n",
              "        vertical-align: middle;\n",
              "    }\n",
              "\n",
              "    .dataframe tbody tr th {\n",
              "        vertical-align: top;\n",
              "    }\n",
              "\n",
              "    .dataframe thead th {\n",
              "        text-align: right;\n",
              "    }\n",
              "</style>\n",
              "<table border=\"1\" class=\"dataframe\">\n",
              "  <thead>\n",
              "    <tr style=\"text-align: right;\">\n",
              "      <th></th>\n",
              "      <th>price_approx_usd</th>\n",
              "      <th>surface_covered_in_m2</th>\n",
              "      <th>rooms</th>\n",
              "      <th>price_per_m2</th>\n",
              "    </tr>\n",
              "  </thead>\n",
              "  <tbody>\n",
              "    <tr>\n",
              "      <th>0</th>\n",
              "      <td>115910.26</td>\n",
              "      <td>128.0</td>\n",
              "      <td>4.0</td>\n",
              "      <td>905.548906</td>\n",
              "    </tr>\n",
              "    <tr>\n",
              "      <th>1</th>\n",
              "      <td>48718.17</td>\n",
              "      <td>210.0</td>\n",
              "      <td>3.0</td>\n",
              "      <td>231.991286</td>\n",
              "    </tr>\n",
              "    <tr>\n",
              "      <th>2</th>\n",
              "      <td>28977.56</td>\n",
              "      <td>58.0</td>\n",
              "      <td>2.0</td>\n",
              "      <td>499.613103</td>\n",
              "    </tr>\n",
              "    <tr>\n",
              "      <th>3</th>\n",
              "      <td>36932.27</td>\n",
              "      <td>79.0</td>\n",
              "      <td>3.0</td>\n",
              "      <td>467.497089</td>\n",
              "    </tr>\n",
              "    <tr>\n",
              "      <th>4</th>\n",
              "      <td>83903.51</td>\n",
              "      <td>111.0</td>\n",
              "      <td>3.0</td>\n",
              "      <td>755.887477</td>\n",
              "    </tr>\n",
              "  </tbody>\n",
              "</table>\n",
              "</div>\n",
              "    <div class=\"colab-df-buttons\">\n",
              "\n",
              "  <div class=\"colab-df-container\">\n",
              "    <button class=\"colab-df-convert\" onclick=\"convertToInteractive('df-2f1afa56-c2c6-420a-a43a-7fbf9ecde0b2')\"\n",
              "            title=\"Convert this dataframe to an interactive table.\"\n",
              "            style=\"display:none;\">\n",
              "\n",
              "  <svg xmlns=\"http://www.w3.org/2000/svg\" height=\"24px\" viewBox=\"0 -960 960 960\">\n",
              "    <path d=\"M120-120v-720h720v720H120Zm60-500h600v-160H180v160Zm220 220h160v-160H400v160Zm0 220h160v-160H400v160ZM180-400h160v-160H180v160Zm440 0h160v-160H620v160ZM180-180h160v-160H180v160Zm440 0h160v-160H620v160Z\"/>\n",
              "  </svg>\n",
              "    </button>\n",
              "\n",
              "  <style>\n",
              "    .colab-df-container {\n",
              "      display:flex;\n",
              "      gap: 12px;\n",
              "    }\n",
              "\n",
              "    .colab-df-convert {\n",
              "      background-color: #E8F0FE;\n",
              "      border: none;\n",
              "      border-radius: 50%;\n",
              "      cursor: pointer;\n",
              "      display: none;\n",
              "      fill: #1967D2;\n",
              "      height: 32px;\n",
              "      padding: 0 0 0 0;\n",
              "      width: 32px;\n",
              "    }\n",
              "\n",
              "    .colab-df-convert:hover {\n",
              "      background-color: #E2EBFA;\n",
              "      box-shadow: 0px 1px 2px rgba(60, 64, 67, 0.3), 0px 1px 3px 1px rgba(60, 64, 67, 0.15);\n",
              "      fill: #174EA6;\n",
              "    }\n",
              "\n",
              "    .colab-df-buttons div {\n",
              "      margin-bottom: 4px;\n",
              "    }\n",
              "\n",
              "    [theme=dark] .colab-df-convert {\n",
              "      background-color: #3B4455;\n",
              "      fill: #D2E3FC;\n",
              "    }\n",
              "\n",
              "    [theme=dark] .colab-df-convert:hover {\n",
              "      background-color: #434B5C;\n",
              "      box-shadow: 0px 1px 3px 1px rgba(0, 0, 0, 0.15);\n",
              "      filter: drop-shadow(0px 1px 2px rgba(0, 0, 0, 0.3));\n",
              "      fill: #FFFFFF;\n",
              "    }\n",
              "  </style>\n",
              "\n",
              "    <script>\n",
              "      const buttonEl =\n",
              "        document.querySelector('#df-2f1afa56-c2c6-420a-a43a-7fbf9ecde0b2 button.colab-df-convert');\n",
              "      buttonEl.style.display =\n",
              "        google.colab.kernel.accessAllowed ? 'block' : 'none';\n",
              "\n",
              "      async function convertToInteractive(key) {\n",
              "        const element = document.querySelector('#df-2f1afa56-c2c6-420a-a43a-7fbf9ecde0b2');\n",
              "        const dataTable =\n",
              "          await google.colab.kernel.invokeFunction('convertToInteractive',\n",
              "                                                    [key], {});\n",
              "        if (!dataTable) return;\n",
              "\n",
              "        const docLinkHtml = 'Like what you see? Visit the ' +\n",
              "          '<a target=\"_blank\" href=https://colab.research.google.com/notebooks/data_table.ipynb>data table notebook</a>'\n",
              "          + ' to learn more about interactive tables.';\n",
              "        element.innerHTML = '';\n",
              "        dataTable['output_type'] = 'display_data';\n",
              "        await google.colab.output.renderOutput(dataTable, element);\n",
              "        const docLink = document.createElement('div');\n",
              "        docLink.innerHTML = docLinkHtml;\n",
              "        element.appendChild(docLink);\n",
              "      }\n",
              "    </script>\n",
              "  </div>\n",
              "\n",
              "\n",
              "<div id=\"df-9f413a96-04b5-46fa-8fba-0d78a6d5ecaf\">\n",
              "  <button class=\"colab-df-quickchart\" onclick=\"quickchart('df-9f413a96-04b5-46fa-8fba-0d78a6d5ecaf')\"\n",
              "            title=\"Suggest charts\"\n",
              "            style=\"display:none;\">\n",
              "\n",
              "<svg xmlns=\"http://www.w3.org/2000/svg\" height=\"24px\"viewBox=\"0 0 24 24\"\n",
              "     width=\"24px\">\n",
              "    <g>\n",
              "        <path d=\"M19 3H5c-1.1 0-2 .9-2 2v14c0 1.1.9 2 2 2h14c1.1 0 2-.9 2-2V5c0-1.1-.9-2-2-2zM9 17H7v-7h2v7zm4 0h-2V7h2v10zm4 0h-2v-4h2v4z\"/>\n",
              "    </g>\n",
              "</svg>\n",
              "  </button>\n",
              "\n",
              "<style>\n",
              "  .colab-df-quickchart {\n",
              "      --bg-color: #E8F0FE;\n",
              "      --fill-color: #1967D2;\n",
              "      --hover-bg-color: #E2EBFA;\n",
              "      --hover-fill-color: #174EA6;\n",
              "      --disabled-fill-color: #AAA;\n",
              "      --disabled-bg-color: #DDD;\n",
              "  }\n",
              "\n",
              "  [theme=dark] .colab-df-quickchart {\n",
              "      --bg-color: #3B4455;\n",
              "      --fill-color: #D2E3FC;\n",
              "      --hover-bg-color: #434B5C;\n",
              "      --hover-fill-color: #FFFFFF;\n",
              "      --disabled-bg-color: #3B4455;\n",
              "      --disabled-fill-color: #666;\n",
              "  }\n",
              "\n",
              "  .colab-df-quickchart {\n",
              "    background-color: var(--bg-color);\n",
              "    border: none;\n",
              "    border-radius: 50%;\n",
              "    cursor: pointer;\n",
              "    display: none;\n",
              "    fill: var(--fill-color);\n",
              "    height: 32px;\n",
              "    padding: 0;\n",
              "    width: 32px;\n",
              "  }\n",
              "\n",
              "  .colab-df-quickchart:hover {\n",
              "    background-color: var(--hover-bg-color);\n",
              "    box-shadow: 0 1px 2px rgba(60, 64, 67, 0.3), 0 1px 3px 1px rgba(60, 64, 67, 0.15);\n",
              "    fill: var(--button-hover-fill-color);\n",
              "  }\n",
              "\n",
              "  .colab-df-quickchart-complete:disabled,\n",
              "  .colab-df-quickchart-complete:disabled:hover {\n",
              "    background-color: var(--disabled-bg-color);\n",
              "    fill: var(--disabled-fill-color);\n",
              "    box-shadow: none;\n",
              "  }\n",
              "\n",
              "  .colab-df-spinner {\n",
              "    border: 2px solid var(--fill-color);\n",
              "    border-color: transparent;\n",
              "    border-bottom-color: var(--fill-color);\n",
              "    animation:\n",
              "      spin 1s steps(1) infinite;\n",
              "  }\n",
              "\n",
              "  @keyframes spin {\n",
              "    0% {\n",
              "      border-color: transparent;\n",
              "      border-bottom-color: var(--fill-color);\n",
              "      border-left-color: var(--fill-color);\n",
              "    }\n",
              "    20% {\n",
              "      border-color: transparent;\n",
              "      border-left-color: var(--fill-color);\n",
              "      border-top-color: var(--fill-color);\n",
              "    }\n",
              "    30% {\n",
              "      border-color: transparent;\n",
              "      border-left-color: var(--fill-color);\n",
              "      border-top-color: var(--fill-color);\n",
              "      border-right-color: var(--fill-color);\n",
              "    }\n",
              "    40% {\n",
              "      border-color: transparent;\n",
              "      border-right-color: var(--fill-color);\n",
              "      border-top-color: var(--fill-color);\n",
              "    }\n",
              "    60% {\n",
              "      border-color: transparent;\n",
              "      border-right-color: var(--fill-color);\n",
              "    }\n",
              "    80% {\n",
              "      border-color: transparent;\n",
              "      border-right-color: var(--fill-color);\n",
              "      border-bottom-color: var(--fill-color);\n",
              "    }\n",
              "    90% {\n",
              "      border-color: transparent;\n",
              "      border-bottom-color: var(--fill-color);\n",
              "    }\n",
              "  }\n",
              "</style>\n",
              "\n",
              "  <script>\n",
              "    async function quickchart(key) {\n",
              "      const quickchartButtonEl =\n",
              "        document.querySelector('#' + key + ' button');\n",
              "      quickchartButtonEl.disabled = true;  // To prevent multiple clicks.\n",
              "      quickchartButtonEl.classList.add('colab-df-spinner');\n",
              "      try {\n",
              "        const charts = await google.colab.kernel.invokeFunction(\n",
              "            'suggestCharts', [key], {});\n",
              "      } catch (error) {\n",
              "        console.error('Error during call to suggestCharts:', error);\n",
              "      }\n",
              "      quickchartButtonEl.classList.remove('colab-df-spinner');\n",
              "      quickchartButtonEl.classList.add('colab-df-quickchart-complete');\n",
              "    }\n",
              "    (() => {\n",
              "      let quickchartButtonEl =\n",
              "        document.querySelector('#df-9f413a96-04b5-46fa-8fba-0d78a6d5ecaf button');\n",
              "      quickchartButtonEl.style.display =\n",
              "        google.colab.kernel.accessAllowed ? 'block' : 'none';\n",
              "    })();\n",
              "  </script>\n",
              "</div>\n",
              "\n",
              "  <div id=\"id_0d6ab336-8b27-496c-a603-1399690a2636\">\n",
              "    <style>\n",
              "      .colab-df-generate {\n",
              "        background-color: #E8F0FE;\n",
              "        border: none;\n",
              "        border-radius: 50%;\n",
              "        cursor: pointer;\n",
              "        display: none;\n",
              "        fill: #1967D2;\n",
              "        height: 32px;\n",
              "        padding: 0 0 0 0;\n",
              "        width: 32px;\n",
              "      }\n",
              "\n",
              "      .colab-df-generate:hover {\n",
              "        background-color: #E2EBFA;\n",
              "        box-shadow: 0px 1px 2px rgba(60, 64, 67, 0.3), 0px 1px 3px 1px rgba(60, 64, 67, 0.15);\n",
              "        fill: #174EA6;\n",
              "      }\n",
              "\n",
              "      [theme=dark] .colab-df-generate {\n",
              "        background-color: #3B4455;\n",
              "        fill: #D2E3FC;\n",
              "      }\n",
              "\n",
              "      [theme=dark] .colab-df-generate:hover {\n",
              "        background-color: #434B5C;\n",
              "        box-shadow: 0px 1px 3px 1px rgba(0, 0, 0, 0.15);\n",
              "        filter: drop-shadow(0px 1px 2px rgba(0, 0, 0, 0.3));\n",
              "        fill: #FFFFFF;\n",
              "      }\n",
              "    </style>\n",
              "    <button class=\"colab-df-generate\" onclick=\"generateWithVariable('df_houses')\"\n",
              "            title=\"Generate code using this dataframe.\"\n",
              "            style=\"display:none;\">\n",
              "\n",
              "  <svg xmlns=\"http://www.w3.org/2000/svg\" height=\"24px\"viewBox=\"0 0 24 24\"\n",
              "       width=\"24px\">\n",
              "    <path d=\"M7,19H8.4L18.45,9,17,7.55,7,17.6ZM5,21V16.75L18.45,3.32a2,2,0,0,1,2.83,0l1.4,1.43a1.91,1.91,0,0,1,.58,1.4,1.91,1.91,0,0,1-.58,1.4L9.25,21ZM18.45,9,17,7.55Zm-12,3A5.31,5.31,0,0,0,4.9,8.1,5.31,5.31,0,0,0,1,6.5,5.31,5.31,0,0,0,4.9,4.9,5.31,5.31,0,0,0,6.5,1,5.31,5.31,0,0,0,8.1,4.9,5.31,5.31,0,0,0,12,6.5,5.46,5.46,0,0,0,6.5,12Z\"/>\n",
              "  </svg>\n",
              "    </button>\n",
              "    <script>\n",
              "      (() => {\n",
              "      const buttonEl =\n",
              "        document.querySelector('#id_0d6ab336-8b27-496c-a603-1399690a2636 button.colab-df-generate');\n",
              "      buttonEl.style.display =\n",
              "        google.colab.kernel.accessAllowed ? 'block' : 'none';\n",
              "\n",
              "      buttonEl.onclick = () => {\n",
              "        google.colab.notebook.generateWithVariable('df_houses');\n",
              "      }\n",
              "      })();\n",
              "    </script>\n",
              "  </div>\n",
              "\n",
              "    </div>\n",
              "  </div>\n"
            ]
          },
          "metadata": {},
          "execution_count": 24
        }
      ]
    }
  ]
}