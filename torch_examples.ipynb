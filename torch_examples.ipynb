{
  "nbformat": 4,
  "nbformat_minor": 0,
  "metadata": {
    "colab": {
      "provenance": [],
      "gpuType": "T4",
      "authorship_tag": "ABX9TyONcdNe5fyjZU0EE7BP/NIf",
      "include_colab_link": true
    },
    "kernelspec": {
      "name": "python3",
      "display_name": "Python 3"
    },
    "language_info": {
      "name": "python"
    },
    "accelerator": "GPU"
  },
  "cells": [
    {
      "cell_type": "markdown",
      "metadata": {
        "id": "view-in-github",
        "colab_type": "text"
      },
      "source": [
        "<a href=\"https://colab.research.google.com/github/markcastor/Machine-Learning-Deeplearning/blob/main/torch_examples.ipynb\" target=\"_parent\"><img src=\"https://colab.research.google.com/assets/colab-badge.svg\" alt=\"Open In Colab\"/></a>"
      ]
    },
    {
      "cell_type": "code",
      "execution_count": 2,
      "metadata": {
        "colab": {
          "base_uri": "https://localhost:8080/"
        },
        "id": "kmOYQD974Xy6",
        "outputId": "458ae92e-30fe-4a3b-fa74-46322e9bf1f4"
      },
      "outputs": [
        {
          "output_type": "stream",
          "name": "stdout",
          "text": [
            "cuda\n"
          ]
        }
      ],
      "source": [
        "import torch\n",
        "import torch.nn as nn\n",
        "device = 'cuda' if torch.cuda.is_available() else 'cpu'\n",
        "print(device)\n"
      ]
    },
    {
      "cell_type": "code",
      "source": [
        "print(torch.__version__)\n",
        "print(torch.version.cuda)\n",
        "print(torch.backends.cudnn.version())"
      ],
      "metadata": {
        "colab": {
          "base_uri": "https://localhost:8080/"
        },
        "id": "uGyD-JlJq9B7",
        "outputId": "c7cb52e4-b5ba-45db-b5f5-80b32924ab99"
      },
      "execution_count": 3,
      "outputs": [
        {
          "output_type": "stream",
          "name": "stdout",
          "text": [
            "2.0.1+cu118\n",
            "11.8\n",
            "8700\n"
          ]
        }
      ]
    },
    {
      "cell_type": "code",
      "source": [
        "import numpy as np\n",
        "import time\n"
      ],
      "metadata": {
        "id": "8k4mUCZFrXsY"
      },
      "execution_count": 4,
      "outputs": []
    },
    {
      "cell_type": "code",
      "source": [
        "%%time\n",
        "start_time = time.time()\n",
        "# matrix ooperations here\n",
        "zeros = torch.zeros(1, 1)\n",
        "end_time = time.time()\n",
        "\n",
        "elapsed_time = end_time - start_time\n",
        "print(f\"{elapsed_time:.8f}\")"
      ],
      "metadata": {
        "colab": {
          "base_uri": "https://localhost:8080/"
        },
        "id": "CARQtJk7rXic",
        "outputId": "522362b9-b847-4631-efef-6777034bef18"
      },
      "execution_count": 5,
      "outputs": [
        {
          "output_type": "stream",
          "name": "stdout",
          "text": [
            "0.02742267\n",
            "CPU times: user 1.87 ms, sys: 306 µs, total: 2.18 ms\n",
            "Wall time: 27.6 ms\n"
          ]
        }
      ]
    },
    {
      "cell_type": "code",
      "source": [
        "torch_rand1 = torch.rand(100, 100, 100, 100).to(device)\n",
        "torch_rand2 = torch.rand(100, 100, 100, 100).to (device)\n",
        "np_rand1 = torch.rand(100, 100, 100, 100)\n",
        "np_rand2 = torch.rand(100, 100, 100, 100)\n",
        "\n",
        "start_time = time.time()\n",
        "\n",
        "rand = (torch_rand1 @ torch_rand2)\n",
        "end_time = time.time()\n",
        "\n",
        "elasped_time = end_time - start_time\n",
        "print(f\"{elasped_time:.8f}\")\n",
        "\n",
        "start_time = time.time()\n",
        "\n",
        "rand = np.multiply(np_rand1, np_rand2)\n",
        "end_time = time.time()\n",
        "elasped_time = end_time - start_time\n",
        "print(f\"{elasped_time:.8f}\")"
      ],
      "metadata": {
        "colab": {
          "base_uri": "https://localhost:8080/"
        },
        "id": "1WI4jI9XtSq-",
        "outputId": "53984bd5-c183-46d3-b659-4962e99801c3"
      },
      "execution_count": 6,
      "outputs": [
        {
          "output_type": "stream",
          "name": "stdout",
          "text": [
            "2.61081195\n",
            "0.15021324\n"
          ]
        }
      ]
    },
    {
      "cell_type": "code",
      "source": [
        "#Defineing a probability tensor\n",
        "probabilities = torch.tensor([0.1, 0.9])\n",
        "#10% or 0.1 => 0 , 90% or 0.9 => 1. each probability in the tensor\n",
        "#Now draw 5 samples from multinormal distribution\n",
        "\n",
        "samples = torch.multinomial(probabilities, num_samples=10, replacement=True)\n",
        "print(samples)"
      ],
      "metadata": {
        "colab": {
          "base_uri": "https://localhost:8080/"
        },
        "id": "4whc8NNU1mDc",
        "outputId": "603d9e7a-1949-4bd2-a7bb-7f5ea2b2512c"
      },
      "execution_count": 7,
      "outputs": [
        {
          "output_type": "stream",
          "name": "stdout",
          "text": [
            "tensor([1, 0, 1, 1, 1, 1, 1, 0, 1, 1])\n"
          ]
        }
      ]
    },
    {
      "cell_type": "code",
      "source": [
        "tensor = torch.tensor([1, 2, 3, 4])\n",
        "out = torch.cat((tensor,torch.tensor([5])), dim=0)\n",
        "out"
      ],
      "metadata": {
        "colab": {
          "base_uri": "https://localhost:8080/"
        },
        "id": "frnQPYUK4jpo",
        "outputId": "bb5306e8-c5fb-4a5e-8624-3ce4b800f5eb"
      },
      "execution_count": 8,
      "outputs": [
        {
          "output_type": "execute_result",
          "data": {
            "text/plain": [
              "tensor([1, 2, 3, 4, 5])"
            ]
          },
          "metadata": {},
          "execution_count": 8
        }
      ]
    },
    {
      "cell_type": "code",
      "source": [
        "out = torch.tril(torch.ones(5,5))\n",
        "out"
      ],
      "metadata": {
        "colab": {
          "base_uri": "https://localhost:8080/"
        },
        "id": "utlFH4tW-Fjh",
        "outputId": "6d36ce40-b793-4a60-f35e-96a5077f353d"
      },
      "execution_count": 9,
      "outputs": [
        {
          "output_type": "execute_result",
          "data": {
            "text/plain": [
              "tensor([[1., 0., 0., 0., 0.],\n",
              "        [1., 1., 0., 0., 0.],\n",
              "        [1., 1., 1., 0., 0.],\n",
              "        [1., 1., 1., 1., 0.],\n",
              "        [1., 1., 1., 1., 1.]])"
            ]
          },
          "metadata": {},
          "execution_count": 9
        }
      ]
    },
    {
      "cell_type": "code",
      "source": [
        "out = torch.triu(torch.ones(5,5))\n",
        "out"
      ],
      "metadata": {
        "colab": {
          "base_uri": "https://localhost:8080/"
        },
        "id": "heYNPzCf-nex",
        "outputId": "ecc2a9ba-fda5-42b3-eb3a-ebf4d64c9525"
      },
      "execution_count": 10,
      "outputs": [
        {
          "output_type": "execute_result",
          "data": {
            "text/plain": [
              "tensor([[1., 1., 1., 1., 1.],\n",
              "        [0., 1., 1., 1., 1.],\n",
              "        [0., 0., 1., 1., 1.],\n",
              "        [0., 0., 0., 1., 1.],\n",
              "        [0., 0., 0., 0., 1.]])"
            ]
          },
          "metadata": {},
          "execution_count": 10
        }
      ]
    },
    {
      "cell_type": "code",
      "source": [
        "out = torch.zeros(5,5).masked_fill(torch.tril(torch.ones(5,5)) == 0, float('-inf'))\n",
        "out"
      ],
      "metadata": {
        "colab": {
          "base_uri": "https://localhost:8080/"
        },
        "id": "KMZXR3fj-52A",
        "outputId": "bc9398f6-e08d-49f2-fef2-aefa1737c56f"
      },
      "execution_count": 11,
      "outputs": [
        {
          "output_type": "execute_result",
          "data": {
            "text/plain": [
              "tensor([[0., -inf, -inf, -inf, -inf],\n",
              "        [0., 0., -inf, -inf, -inf],\n",
              "        [0., 0., 0., -inf, -inf],\n",
              "        [0., 0., 0., 0., -inf],\n",
              "        [0., 0., 0., 0., 0.]])"
            ]
          },
          "metadata": {},
          "execution_count": 11
        }
      ]
    },
    {
      "cell_type": "code",
      "source": [
        "torch.exp(out)"
      ],
      "metadata": {
        "colab": {
          "base_uri": "https://localhost:8080/"
        },
        "id": "zViNFefHBJGy",
        "outputId": "b9c06203-70d2-4b20-fa3c-84d12f64e5a1"
      },
      "execution_count": 12,
      "outputs": [
        {
          "output_type": "execute_result",
          "data": {
            "text/plain": [
              "tensor([[1., 0., 0., 0., 0.],\n",
              "        [1., 1., 0., 0., 0.],\n",
              "        [1., 1., 1., 0., 0.],\n",
              "        [1., 1., 1., 1., 0.],\n",
              "        [1., 1., 1., 1., 1.]])"
            ]
          },
          "metadata": {},
          "execution_count": 12
        }
      ]
    },
    {
      "cell_type": "code",
      "source": [
        "input = torch.zeros(2,3,4)\n",
        "out = input.transpose(0,2)\n",
        "out.shape"
      ],
      "metadata": {
        "colab": {
          "base_uri": "https://localhost:8080/"
        },
        "id": "WK-sou_EBOwP",
        "outputId": "037b1810-08c6-4555-df94-e2ca3741b600"
      },
      "execution_count": 13,
      "outputs": [
        {
          "output_type": "execute_result",
          "data": {
            "text/plain": [
              "torch.Size([4, 3, 2])"
            ]
          },
          "metadata": {},
          "execution_count": 13
        }
      ]
    },
    {
      "cell_type": "code",
      "source": [
        "tensor1 = torch.tensor([1, 2, 3])\n",
        "tensor2 = torch.tensor([4, 5, 6])\n",
        "tensor3 = torch.tensor([7, 8, 9])\n",
        "\n",
        "#Stack the tensors along a new dimension\n",
        "stacked_tensor = torch.stack([tensor1, tensor2, tensor3])\n",
        "stacked_tensor"
      ],
      "metadata": {
        "colab": {
          "base_uri": "https://localhost:8080/"
        },
        "id": "rQPTi5UWGEhN",
        "outputId": "c48d46c5-8179-435f-9dcd-2caddc82a090"
      },
      "execution_count": 14,
      "outputs": [
        {
          "output_type": "execute_result",
          "data": {
            "text/plain": [
              "tensor([[1, 2, 3],\n",
              "        [4, 5, 6],\n",
              "        [7, 8, 9]])"
            ]
          },
          "metadata": {},
          "execution_count": 14
        }
      ]
    },
    {
      "cell_type": "code",
      "source": [
        "import torch.nn as nn\n",
        "sample = torch.tensor([10.,10., 10.])\n",
        "linear = nn.Linear(3, 3, bias=False)\n",
        "print(linear(sample))"
      ],
      "metadata": {
        "colab": {
          "base_uri": "https://localhost:8080/"
        },
        "id": "hRRSzb3-HSmH",
        "outputId": "2c7a27b7-fa2d-4b96-e7ca-a9e1e75d453b"
      },
      "execution_count": 15,
      "outputs": [
        {
          "output_type": "stream",
          "name": "stdout",
          "text": [
            "tensor([ 0.3892, -5.3587,  1.9922], grad_fn=<SqueezeBackward4>)\n"
          ]
        }
      ]
    },
    {
      "cell_type": "code",
      "source": [
        "import torch.nn.functional as  F\n",
        "\n",
        "##Create a tensor\n",
        "tensor1 = torch.tensor([1.0, 2.0, 3.0])\n",
        "\n",
        "#Apply softmax using torch.nn.functional.softmax()\n",
        "softmax_output = F.softmax(tensor1, dim=0)\n",
        "\n",
        "print(softmax_output)"
      ],
      "metadata": {
        "colab": {
          "base_uri": "https://localhost:8080/"
        },
        "id": "Zql1QakVKx4z",
        "outputId": "e584e563-f61d-4565-aae8-80f460660102"
      },
      "execution_count": 16,
      "outputs": [
        {
          "output_type": "stream",
          "name": "stdout",
          "text": [
            "tensor([0.0900, 0.2447, 0.6652])\n"
          ]
        }
      ]
    },
    {
      "cell_type": "markdown",
      "source": [
        "Embedding vectors"
      ],
      "metadata": {
        "id": "KwkybWbQdR15"
      }
    },
    {
      "cell_type": "code",
      "source": [
        " #initialize an embedding layer\n",
        "vocab_size = 1000\n",
        "embedding_dim = 100\n",
        "embedding = nn.Embedding(vocab_size, embedding_dim)\n",
        "\n",
        "#create some input indices\n",
        "input_indices = torch.LongTensor([1,5,3,2])\n",
        "\n",
        "\n",
        "#Apply the emedding layer\n",
        "embedded_output = embedding(input_indices)\n",
        "\n",
        "#Now the output will then be a tensor pf shape (4, 100), where 4 is the number of input and 100 is the dimensionality of the embedding vectors\n",
        "print(embedded_output.shape)\n",
        "print(embedded_output)\n"
      ],
      "metadata": {
        "colab": {
          "base_uri": "https://localhost:8080/"
        },
        "id": "t0JP7E7YW7Sj",
        "outputId": "253d914b-a60b-46d2-a01a-06b78b12bc37"
      },
      "execution_count": 17,
      "outputs": [
        {
          "output_type": "stream",
          "name": "stdout",
          "text": [
            "torch.Size([4, 100])\n",
            "tensor([[-0.8712,  1.1694,  0.1480, -1.2960,  1.1343,  2.0926,  1.0733, -0.8705,\n",
            "          0.2983,  0.5363,  0.4623,  1.0320,  0.6385, -0.7507, -1.1382,  0.4717,\n",
            "          0.4806, -0.7453, -0.8444,  0.9301,  0.9545,  0.3083,  0.2727,  0.4105,\n",
            "          0.5760, -0.5359,  1.3096, -0.4366, -0.7101, -1.0031, -2.1746,  0.6787,\n",
            "          0.0136, -0.5456, -0.2620,  0.2744,  0.3842,  1.4577, -0.7543,  1.4456,\n",
            "         -2.0633, -0.4963, -0.6274, -1.0092,  0.3690, -0.2546, -0.7235,  0.8127,\n",
            "          0.2000, -1.0976,  0.6983,  0.7781,  1.4609, -1.8887, -1.5463, -0.0558,\n",
            "         -1.1834,  1.6290,  0.3123, -0.2729, -0.4106,  0.0419,  1.0105,  0.7741,\n",
            "          1.2489,  0.4359, -1.3470,  1.1164, -1.8804, -0.4446,  0.0944, -1.5564,\n",
            "          0.0411, -0.1318,  0.6047, -0.0118, -0.7806,  0.4455,  0.6887, -0.9780,\n",
            "          0.5877, -0.4413, -0.2724, -0.3535,  1.1603,  2.6236,  0.6197,  0.5271,\n",
            "          0.7114,  0.6738, -1.3735, -1.0671,  0.5636,  0.3748, -0.0687,  2.1835,\n",
            "         -0.3078, -0.3376,  0.6735,  0.2073],\n",
            "        [ 0.8874,  0.7740,  0.9356,  0.1799,  0.1872, -0.4946, -0.5404,  0.8820,\n",
            "          0.7539,  0.0998, -0.1757,  0.8683,  1.7493,  0.1545, -2.1254, -0.4094,\n",
            "          1.1546, -0.2658,  1.6412, -1.0097, -1.1529,  2.3769,  1.0722,  0.7966,\n",
            "          1.0869,  2.3162, -0.1999,  0.9750,  0.7812,  1.1666,  1.5271,  1.2936,\n",
            "          1.4239,  0.7220, -0.0249,  0.0853, -2.3444, -0.5075, -1.0798, -0.6547,\n",
            "          0.0410, -0.3220, -0.3355, -0.4745, -1.0191, -0.0857, -0.3801, -1.1909,\n",
            "          0.6908,  0.6215,  0.6600,  0.1494, -1.3621, -0.1864,  0.3805,  0.2980,\n",
            "         -0.2483,  0.2970, -0.3698, -0.9973,  0.1646, -1.5414,  0.7110,  1.7154,\n",
            "         -0.0279, -0.4044,  0.0063,  0.5397, -0.0045,  0.5101, -0.0757,  1.6433,\n",
            "         -1.0972, -0.5802,  1.4415,  1.9004, -2.1134, -1.3209, -0.5573, -0.7740,\n",
            "          0.2420, -0.9833,  0.9276,  0.8511,  1.1089, -0.2753, -0.9578,  0.0079,\n",
            "          1.6229, -1.6666,  0.8739,  0.5051,  0.3661,  0.0198,  0.8957,  1.6719,\n",
            "         -0.9662, -0.2840, -1.0414,  1.1047],\n",
            "        [ 0.8294, -0.9424,  0.0909,  1.2410,  1.5543,  2.5304, -1.4012, -1.6601,\n",
            "          1.2184,  1.2493, -0.7386,  1.0897, -1.7268,  1.6368, -0.8613, -0.3547,\n",
            "         -0.8322, -0.5759, -0.3602, -0.8938, -0.3243, -1.5245, -1.3174, -2.9150,\n",
            "         -0.0733,  0.6206, -0.8000,  0.9817, -1.4786,  0.6426,  0.7402,  0.8987,\n",
            "         -0.7416, -0.8379,  0.3770,  0.2422, -1.8445,  0.4116, -0.7796,  1.1038,\n",
            "          1.0882, -0.3650,  0.9870,  0.8354,  1.4145, -0.3143, -0.8358,  0.3905,\n",
            "         -0.2932,  0.7340,  0.9593, -0.8036,  0.5556,  1.9081, -1.0892,  0.8413,\n",
            "          0.1945, -0.3827, -0.3091,  0.5159, -0.2756,  0.5318,  0.1819, -0.2705,\n",
            "         -1.0497, -2.3266, -0.2693,  1.1198, -0.7050,  0.0779, -1.1716, -0.3318,\n",
            "          0.4677,  0.4752,  1.1305, -0.2297, -1.5678, -0.6716, -0.1805,  0.7754,\n",
            "          0.4990, -1.3344,  1.0470, -0.0800, -0.5637, -1.0468,  1.6168, -0.0883,\n",
            "          0.6294,  3.0034,  1.1447, -0.9064, -1.3457, -0.8163, -1.0562,  0.0785,\n",
            "         -1.4852,  0.0930,  0.5525,  0.6747],\n",
            "        [ 0.6225, -0.4137, -0.3169,  1.8346, -1.0546, -0.3800,  0.0305,  0.5713,\n",
            "         -0.3106, -0.8731, -0.6249, -0.0399,  2.2868,  1.5210, -0.0150,  0.4117,\n",
            "         -0.3181, -0.1508, -0.8117,  1.4646,  0.0240, -1.2163,  0.9235, -1.7410,\n",
            "          0.1045,  0.9133, -0.7328, -1.0671, -1.1801,  0.6987,  0.1594, -0.2015,\n",
            "         -1.4251,  0.1782,  0.6671,  0.4667, -1.3448,  0.8162,  0.6223, -0.6167,\n",
            "          0.6980, -0.4360, -1.1469,  1.5368, -1.7564, -0.2701, -1.7953, -1.0152,\n",
            "         -0.9522,  1.6340, -0.4159, -0.0281,  0.7501, -0.4508, -2.0954,  1.0458,\n",
            "         -0.4767, -1.4056, -0.6334,  1.3093,  0.8618, -1.9995, -1.1912,  0.2276,\n",
            "          0.5073,  0.3078,  1.0566,  1.1119, -0.7360, -1.5644, -0.5222,  1.7300,\n",
            "          0.6577,  0.0403,  1.0715, -0.0108, -0.1655, -0.8749,  0.8475,  1.5331,\n",
            "         -0.2974, -0.2226,  1.4413,  1.7462, -0.2752,  1.4886, -1.3079,  1.5304,\n",
            "         -1.7300,  0.1871, -1.0047,  0.6758,  0.1810,  0.3936,  0.9113, -0.0716,\n",
            "         -1.0439,  0.3528, -1.0588,  1.1108]], grad_fn=<EmbeddingBackward0>)\n"
          ]
        }
      ]
    },
    {
      "cell_type": "code",
      "source": [
        "a = torch.tensor([[1,2],[3,4], [5,6]])\n",
        "b = torch.tensor([[7,8,9],[10,11,12]])\n",
        "print(torch.matmul (a , b))\n",
        "\n"
      ],
      "metadata": {
        "colab": {
          "base_uri": "https://localhost:8080/"
        },
        "id": "z7_wcDEkqS6K",
        "outputId": "28418ce2-ebdd-48f0-9233-bd14a385bf1c"
      },
      "execution_count": 19,
      "outputs": [
        {
          "output_type": "stream",
          "name": "stdout",
          "text": [
            "tensor([[ 27,  30,  33],\n",
            "        [ 61,  68,  75],\n",
            "        [ 95, 106, 117]])\n"
          ]
        }
      ]
    },
    {
      "cell_type": "code",
      "source": [
        "int_64 = torch.randint(1, 10, size=(3, 2)).float()  # Explicitly specify int64\n",
        "float_32 = torch.rand(2, 3)               # Explicitly specify float32\n",
        "result = torch.matmul(int_64, float_32)\n",
        "print(result)"
      ],
      "metadata": {
        "colab": {
          "base_uri": "https://localhost:8080/"
        },
        "id": "XGvjHlIv8Tgv",
        "outputId": "d0b9eb1b-bfc6-493d-fe19-6b1de77039d7"
      },
      "execution_count": 28,
      "outputs": [
        {
          "output_type": "stream",
          "name": "stdout",
          "text": [
            "tensor([[6.8839, 4.2168, 8.8085],\n",
            "        [6.4144, 2.2531, 6.9945],\n",
            "        [4.6675, 3.1385, 6.1747]])\n"
          ]
        }
      ]
    }
  ]
}